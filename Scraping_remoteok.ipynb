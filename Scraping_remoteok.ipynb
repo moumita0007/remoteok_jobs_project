{
 "cells": [
  {
   "cell_type": "code",
   "execution_count": 2,
   "id": "e4e386d9-0d5d-4e81-b526-905964e25aae",
   "metadata": {},
   "outputs": [],
   "source": [
    "import requests\n",
    "import pandas as pd\n",
    "import re\n",
    "\n",
    "\n",
    "url = \"https://remoteok.com/api\"\n",
    "\n",
    "headers = {\n",
    "    \"User-Agent\": \"Mozilla/5.0\"\n",
    "}\n",
    "response = requests.get(url, headers=headers)\n",
    "\n",
    "\n",
    "jobs = response.json()[1:]\n",
    "\n",
    "data = []\n",
    "for job in jobs:\n",
    "    title = job.get('position', '')\n",
    "    company = job.get('company', '')\n",
    "    \n",
    "    location = job.get('location')\n",
    "    if not location:\n",
    "        location = 'NA'\n",
    "    \n",
    "\n",
    "    salary_min = job.get('salary_min')\n",
    "    salary_max = job.get('salary_max')\n",
    "\n",
    "    salary_min = salary_min if salary_min else 'NA'\n",
    "    salary_max = salary_max if salary_max else 'NA'\n",
    "    \n",
    "    \n",
    "    \n",
    "    date_posted = job.get('date', '')\n",
    "\n",
    "    formatted_date = re.sub(r'T', ' ', date_posted)  \n",
    "    formatted_date = re.sub(r'\\+.*', '', formatted_date)  \n",
    "    \n",
    "\n",
    "    data.append({\n",
    "        'Job Title': title,\n",
    "        'Company': company,\n",
    "        'Location': location,\n",
    "        'Minimum Salary (Dollars)': salary_min,\n",
    "        'Maximum Salary (Dollars)': salary_max,\n",
    "        'Date Posted': formatted_date\n",
    "    })\n",
    "\n",
    "df = pd.DataFrame(data)\n",
    "\n",
    "df = df.head(100)\n",
    "\n",
    "\n",
    "df.to_csv(\"Jobs_remoteok.csv\", index=False)"
   ]
  },
  {
   "cell_type": "code",
   "execution_count": null,
   "id": "fdb0bb47-dc2c-44a5-8024-94e42a243602",
   "metadata": {},
   "outputs": [],
   "source": []
  }
 ],
 "metadata": {
  "kernelspec": {
   "display_name": "Python 3 (ipykernel)",
   "language": "python",
   "name": "python3"
  },
  "language_info": {
   "codemirror_mode": {
    "name": "ipython",
    "version": 3
   },
   "file_extension": ".py",
   "mimetype": "text/x-python",
   "name": "python",
   "nbconvert_exporter": "python",
   "pygments_lexer": "ipython3",
   "version": "3.10.12"
  }
 },
 "nbformat": 4,
 "nbformat_minor": 5
}
